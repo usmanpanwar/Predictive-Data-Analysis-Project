{
 "cells": [
  {
   "cell_type": "code",
   "execution_count": 5,
   "id": "90126524-046a-4609-9505-bf5ff9673dad",
   "metadata": {},
   "outputs": [],
   "source": [
    "### Hypothesis and Research Questions\n",
    "\n",
    "#**Hypothesis**:\n",
    "#- Higher education levels, along with specific occupations, significantly increase the likelihood of an individual earning more than $50,000 per year.\n",
    "\n",
    "#**Research Questions**:\n",
    "\n",
    "#1. **How does the level of education impact the likelihood of earning more than $50,000?**\n",
    "  # - Does having a bachelor's degree or higher correlate strongly with higher income levels?\n",
    "   #- Is there a threshold level of education (e.g., high school vs. college) that marks a significant difference in income?\n",
    "\n",
    "#2. **Which occupations are most likely to be associated with an income exceeding $50,000?**\n",
    "  # - Are there specific job categories (e.g., management, technical, professional) that dominate the higher income bracket?\n",
    "   #- How does the income distribution"
   ]
  },
  {
   "cell_type": "code",
   "execution_count": 7,
   "id": "fd762864-7338-4f8f-a11e-c8711a9abbd9",
   "metadata": {},
   "outputs": [
    {
     "data": {
      "text/html": [
       "<div>\n",
       "<style scoped>\n",
       "    .dataframe tbody tr th:only-of-type {\n",
       "        vertical-align: middle;\n",
       "    }\n",
       "\n",
       "    .dataframe tbody tr th {\n",
       "        vertical-align: top;\n",
       "    }\n",
       "\n",
       "    .dataframe thead th {\n",
       "        text-align: right;\n",
       "    }\n",
       "</style>\n",
       "<table border=\"1\" class=\"dataframe\">\n",
       "  <thead>\n",
       "    <tr style=\"text-align: right;\">\n",
       "      <th></th>\n",
       "      <th>ID</th>\n",
       "      <th>Gender</th>\n",
       "      <th>Ever_Married</th>\n",
       "      <th>Age</th>\n",
       "      <th>Graduated</th>\n",
       "      <th>Profession</th>\n",
       "      <th>Work_Experience</th>\n",
       "      <th>Spending_Score</th>\n",
       "      <th>Family_Size</th>\n",
       "      <th>Var_1</th>\n",
       "      <th>Segmentation</th>\n",
       "    </tr>\n",
       "  </thead>\n",
       "  <tbody>\n",
       "    <tr>\n",
       "      <th>0</th>\n",
       "      <td>462809</td>\n",
       "      <td>Male</td>\n",
       "      <td>No</td>\n",
       "      <td>22</td>\n",
       "      <td>No</td>\n",
       "      <td>Healthcare</td>\n",
       "      <td>1.0</td>\n",
       "      <td>Low</td>\n",
       "      <td>4.0</td>\n",
       "      <td>Cat_4</td>\n",
       "      <td>D</td>\n",
       "    </tr>\n",
       "    <tr>\n",
       "      <th>1</th>\n",
       "      <td>462643</td>\n",
       "      <td>Female</td>\n",
       "      <td>Yes</td>\n",
       "      <td>38</td>\n",
       "      <td>Yes</td>\n",
       "      <td>Engineer</td>\n",
       "      <td>NaN</td>\n",
       "      <td>Average</td>\n",
       "      <td>3.0</td>\n",
       "      <td>Cat_4</td>\n",
       "      <td>A</td>\n",
       "    </tr>\n",
       "    <tr>\n",
       "      <th>2</th>\n",
       "      <td>466315</td>\n",
       "      <td>Female</td>\n",
       "      <td>Yes</td>\n",
       "      <td>67</td>\n",
       "      <td>Yes</td>\n",
       "      <td>Engineer</td>\n",
       "      <td>1.0</td>\n",
       "      <td>Low</td>\n",
       "      <td>1.0</td>\n",
       "      <td>Cat_6</td>\n",
       "      <td>B</td>\n",
       "    </tr>\n",
       "    <tr>\n",
       "      <th>3</th>\n",
       "      <td>461735</td>\n",
       "      <td>Male</td>\n",
       "      <td>Yes</td>\n",
       "      <td>67</td>\n",
       "      <td>Yes</td>\n",
       "      <td>Lawyer</td>\n",
       "      <td>0.0</td>\n",
       "      <td>High</td>\n",
       "      <td>2.0</td>\n",
       "      <td>Cat_6</td>\n",
       "      <td>B</td>\n",
       "    </tr>\n",
       "    <tr>\n",
       "      <th>4</th>\n",
       "      <td>462669</td>\n",
       "      <td>Female</td>\n",
       "      <td>Yes</td>\n",
       "      <td>40</td>\n",
       "      <td>Yes</td>\n",
       "      <td>Entertainment</td>\n",
       "      <td>NaN</td>\n",
       "      <td>High</td>\n",
       "      <td>6.0</td>\n",
       "      <td>Cat_6</td>\n",
       "      <td>A</td>\n",
       "    </tr>\n",
       "  </tbody>\n",
       "</table>\n",
       "</div>"
      ],
      "text/plain": [
       "       ID  Gender Ever_Married  Age Graduated     Profession  Work_Experience  \\\n",
       "0  462809    Male           No   22        No     Healthcare              1.0   \n",
       "1  462643  Female          Yes   38       Yes       Engineer              NaN   \n",
       "2  466315  Female          Yes   67       Yes       Engineer              1.0   \n",
       "3  461735    Male          Yes   67       Yes         Lawyer              0.0   \n",
       "4  462669  Female          Yes   40       Yes  Entertainment              NaN   \n",
       "\n",
       "  Spending_Score  Family_Size  Var_1 Segmentation  \n",
       "0            Low          4.0  Cat_4            D  \n",
       "1        Average          3.0  Cat_4            A  \n",
       "2            Low          1.0  Cat_6            B  \n",
       "3           High          2.0  Cat_6            B  \n",
       "4           High          6.0  Cat_6            A  "
      ]
     },
     "execution_count": 7,
     "metadata": {},
     "output_type": "execute_result"
    }
   ],
   "source": [
    "import pandas as pd\n",
    "import numpy as np \n",
    "df = pd.read_csv('Train.csv')\n",
    "df.head()\n",
    "#doing Gold Data set - source is..."
   ]
  },
  {
   "cell_type": "code",
   "execution_count": 8,
   "id": "b78b16df-dca7-4dc9-bf34-c4437615f05c",
   "metadata": {},
   "outputs": [
    {
     "name": "stdout",
     "output_type": "stream",
     "text": [
      "Number of rows: 8068\n",
      "Number of columns: 11\n"
     ]
    }
   ],
   "source": [
    "rows, columns = df.shape\n",
    "\n",
    "print(\"Number of rows:\", rows)\n",
    "print(\"Number of columns:\", columns)"
   ]
  },
  {
   "cell_type": "code",
   "execution_count": 10,
   "id": "f7c4af9a-ee01-4eac-b633-d21045ec3541",
   "metadata": {},
   "outputs": [
    {
     "name": "stdout",
     "output_type": "stream",
     "text": [
      "data types\n",
      "ID                   int64\n",
      "Gender              object\n",
      "Ever_Married        object\n",
      "Age                  int64\n",
      "Graduated           object\n",
      "Profession          object\n",
      "Work_Experience    float64\n",
      "Spending_Score      object\n",
      "Family_Size        float64\n",
      "Var_1               object\n",
      "Segmentation        object\n",
      "dtype: object\n",
      "\n",
      "Statistics for ID:\n",
      "Max: 467974\n",
      "Min: 458982\n",
      "Mean (Average): 463479.21455131384\n",
      "\n",
      "Statistics for Age:\n",
      "Max: 89\n",
      "Min: 18\n",
      "Mean (Average): 43.46690629647992\n",
      "\n",
      "Statistics for Work_Experience:\n",
      "Max: 14.0\n",
      "Min: 0.0\n",
      "Mean (Average): 2.641663213150988\n",
      "\n",
      "Statistics for Family_Size:\n",
      "Max: 9.0\n",
      "Min: 1.0\n",
      "Mean (Average): 2.85012285012285\n"
     ]
    }
   ],
   "source": [
    "print ('data types')\n",
    "print(df.dtypes)\n",
    "\n",
    "\n",
    "# Specific statistics like max, min, and average for each column where applicable\n",
    "for col in df.columns:\n",
    "    if df[col].dtype in ['int64', 'float64']:  # Condition for numeric columns\n",
    "        print(f\"\\nStatistics for {col}:\")\n",
    "        print(f\"Max: {df[col].max()}\")\n",
    "        print(f\"Min: {df[col].min()}\")\n",
    "        print(f\"Mean (Average): {df[col].mean()}\")"
   ]
  },
  {
   "cell_type": "code",
   "execution_count": 15,
   "id": "3b0e3846-7c13-44f7-97f2-abf7c69e3192",
   "metadata": {},
   "outputs": [
    {
     "name": "stdout",
     "output_type": "stream",
     "text": [
      "Missing Values Report:\n",
      "ID                   0\n",
      "Gender               0\n",
      "Ever_Married       140\n",
      "Age                  0\n",
      "Graduated           78\n",
      "Profession         124\n",
      "Work_Experience    829\n",
      "Spending_Score       0\n",
      "Family_Size        335\n",
      "Var_1               76\n",
      "Segmentation         0\n",
      "dtype: int64\n"
     ]
    }
   ],
   "source": [
    "missing_values = df.isnull().sum()\n",
    "print(\"Missing Values Report:\")\n",
    "print(missing_values)\n"
   ]
  },
  {
   "cell_type": "code",
   "execution_count": 16,
   "id": "1a70480d-f8c3-4dbd-8757-c7754b420541",
   "metadata": {},
   "outputs": [
    {
     "name": "stdout",
     "output_type": "stream",
     "text": [
      "Missing values in Work_Experience were replaced with the mean value 2.641663213150988.\n",
      "Missing values in Family_Size were replaced with the mean value 2.85012285012285.\n"
     ]
    }
   ],
   "source": [
    "for column in df.select_dtypes(include=['float64', 'int64']).columns:\n",
    "    if df[column].isnull().sum() > 0:\n",
    "        mean_value = df[column].mean()  # Calculate the mean\n",
    "        df[column].fillna(mean_value, inplace=True)  # Fill missing values with the mean\n",
    "        print(f\"Missing values in {column} were replaced with the mean value {mean_value}.\")\n"
   ]
  },
  {
   "cell_type": "code",
   "execution_count": 17,
   "id": "44db001b-6018-4acf-8bed-db80543455f1",
   "metadata": {},
   "outputs": [
    {
     "name": "stdout",
     "output_type": "stream",
     "text": [
      "Missing values in Ever_Married were replaced with the mode value 'Yes'.\n",
      "Missing values in Graduated were replaced with the mode value 'Yes'.\n",
      "Missing values in Profession were replaced with the mode value 'Artist'.\n",
      "Missing values in Var_1 were replaced with the mode value 'Cat_6'.\n",
      "\n",
      "Missing Values After Handling:\n",
      "ID                 0\n",
      "Gender             0\n",
      "Ever_Married       0\n",
      "Age                0\n",
      "Graduated          0\n",
      "Profession         0\n",
      "Work_Experience    0\n",
      "Spending_Score     0\n",
      "Family_Size        0\n",
      "Var_1              0\n",
      "Segmentation       0\n",
      "dtype: int64\n"
     ]
    }
   ],
   "source": [
    "# Handling missing values in numeric columns\n",
    "for column in df.select_dtypes(include=['float64', 'int64']).columns:\n",
    "    if df[column].isnull().sum() > 0:\n",
    "        mean_value = df[column].mean()\n",
    "        df[column].fillna(mean_value, inplace=True)\n",
    "        print(f\"Missing values in {column} were replaced with the mean value {mean_value}.\")\n",
    "\n",
    "# Handling missing values in categorical columns\n",
    "for column in df.select_dtypes(include=['object']).columns:\n",
    "    if df[column].isnull().sum() > 0:\n",
    "        mode_value = df[column].mode()[0]\n",
    "        df[column].fillna(mode_value, inplace=True)\n",
    "        print(f\"Missing values in {column} were replaced with the mode value '{mode_value}'.\")\n",
    "\n",
    "# Verify that all missing values have been handled\n",
    "missing_values_after = df.isnull().sum()\n",
    "print(\"\\nMissing Values After Handling:\")\n",
    "print(missing_values_after)"
   ]
  },
  {
   "cell_type": "code",
   "execution_count": 18,
   "id": "536bb07c-b616-46d0-9108-110dff66f21c",
   "metadata": {},
   "outputs": [
    {
     "data": {
      "text/html": [
       "<div>\n",
       "<style scoped>\n",
       "    .dataframe tbody tr th:only-of-type {\n",
       "        vertical-align: middle;\n",
       "    }\n",
       "\n",
       "    .dataframe tbody tr th {\n",
       "        vertical-align: top;\n",
       "    }\n",
       "\n",
       "    .dataframe thead th {\n",
       "        text-align: right;\n",
       "    }\n",
       "</style>\n",
       "<table border=\"1\" class=\"dataframe\">\n",
       "  <thead>\n",
       "    <tr style=\"text-align: right;\">\n",
       "      <th></th>\n",
       "      <th>ID</th>\n",
       "      <th>Gender</th>\n",
       "      <th>Ever_Married</th>\n",
       "      <th>Age</th>\n",
       "      <th>Graduated</th>\n",
       "      <th>Profession</th>\n",
       "      <th>Work_Experience</th>\n",
       "      <th>Spending_Score</th>\n",
       "      <th>Family_Size</th>\n",
       "      <th>Var_1</th>\n",
       "      <th>Segmentation</th>\n",
       "    </tr>\n",
       "  </thead>\n",
       "  <tbody>\n",
       "    <tr>\n",
       "      <th>0</th>\n",
       "      <td>462809</td>\n",
       "      <td>Male</td>\n",
       "      <td>No</td>\n",
       "      <td>22</td>\n",
       "      <td>No</td>\n",
       "      <td>Healthcare</td>\n",
       "      <td>1.000000</td>\n",
       "      <td>Low</td>\n",
       "      <td>4.0</td>\n",
       "      <td>Cat_4</td>\n",
       "      <td>D</td>\n",
       "    </tr>\n",
       "    <tr>\n",
       "      <th>1</th>\n",
       "      <td>462643</td>\n",
       "      <td>Female</td>\n",
       "      <td>Yes</td>\n",
       "      <td>38</td>\n",
       "      <td>Yes</td>\n",
       "      <td>Engineer</td>\n",
       "      <td>2.641663</td>\n",
       "      <td>Average</td>\n",
       "      <td>3.0</td>\n",
       "      <td>Cat_4</td>\n",
       "      <td>A</td>\n",
       "    </tr>\n",
       "    <tr>\n",
       "      <th>2</th>\n",
       "      <td>466315</td>\n",
       "      <td>Female</td>\n",
       "      <td>Yes</td>\n",
       "      <td>67</td>\n",
       "      <td>Yes</td>\n",
       "      <td>Engineer</td>\n",
       "      <td>1.000000</td>\n",
       "      <td>Low</td>\n",
       "      <td>1.0</td>\n",
       "      <td>Cat_6</td>\n",
       "      <td>B</td>\n",
       "    </tr>\n",
       "    <tr>\n",
       "      <th>3</th>\n",
       "      <td>461735</td>\n",
       "      <td>Male</td>\n",
       "      <td>Yes</td>\n",
       "      <td>67</td>\n",
       "      <td>Yes</td>\n",
       "      <td>Lawyer</td>\n",
       "      <td>0.000000</td>\n",
       "      <td>High</td>\n",
       "      <td>2.0</td>\n",
       "      <td>Cat_6</td>\n",
       "      <td>B</td>\n",
       "    </tr>\n",
       "    <tr>\n",
       "      <th>4</th>\n",
       "      <td>462669</td>\n",
       "      <td>Female</td>\n",
       "      <td>Yes</td>\n",
       "      <td>40</td>\n",
       "      <td>Yes</td>\n",
       "      <td>Entertainment</td>\n",
       "      <td>2.641663</td>\n",
       "      <td>High</td>\n",
       "      <td>6.0</td>\n",
       "      <td>Cat_6</td>\n",
       "      <td>A</td>\n",
       "    </tr>\n",
       "  </tbody>\n",
       "</table>\n",
       "</div>"
      ],
      "text/plain": [
       "       ID  Gender Ever_Married  Age Graduated     Profession  Work_Experience  \\\n",
       "0  462809    Male           No   22        No     Healthcare         1.000000   \n",
       "1  462643  Female          Yes   38       Yes       Engineer         2.641663   \n",
       "2  466315  Female          Yes   67       Yes       Engineer         1.000000   \n",
       "3  461735    Male          Yes   67       Yes         Lawyer         0.000000   \n",
       "4  462669  Female          Yes   40       Yes  Entertainment         2.641663   \n",
       "\n",
       "  Spending_Score  Family_Size  Var_1 Segmentation  \n",
       "0            Low          4.0  Cat_4            D  \n",
       "1        Average          3.0  Cat_4            A  \n",
       "2            Low          1.0  Cat_6            B  \n",
       "3           High          2.0  Cat_6            B  \n",
       "4           High          6.0  Cat_6            A  "
      ]
     },
     "execution_count": 18,
     "metadata": {},
     "output_type": "execute_result"
    }
   ],
   "source": [
    "df.head()"
   ]
  },
  {
   "cell_type": "code",
   "execution_count": 19,
   "id": "496bcb2e-6395-4085-b1b0-2805d9e2317d",
   "metadata": {},
   "outputs": [
    {
     "name": "stdout",
     "output_type": "stream",
     "text": [
      "Number of duplicate rows: 0\n",
      "\n",
      "No duplicate rows found in the dataset.\n",
      "\n",
      "No duplicates detected\n"
     ]
    }
   ],
   "source": [
    "duplicate_rows = df[df.duplicated()]\n",
    "\n",
    "# Print the number of duplicate rows\n",
    "print(f\"Number of duplicate rows: {duplicate_rows.shape[0]}\")\n",
    "\n",
    "# Display the duplicate rows (if any)\n",
    "if duplicate_rows.shape[0] > 0:\n",
    "    print(\"\\nDuplicate Rows:\")\n",
    "    print(duplicate_rows)\n",
    "else:\n",
    "    print(\"\\nNo duplicate rows found in the dataset.\")\n",
    "# Analysis of Duplicate Values\n",
    "if duplicate_rows.shape[0] > 0:\n",
    "    print(\"\\nAnalysis of Duplicate Values:\")\n",
    "    print(\"Comments: Duplicate rows may indicate repeated data entries, which could bias analysis.\")\n",
    "    print(\"Potential actions: Consider removing duplicate rows to ensure the dataset accurately represents unique records.\")\n",
    "else:\n",
    "    print(\"\\nNo duplicates detected\")"
   ]
  },
  {
   "cell_type": "code",
   "execution_count": 20,
   "id": "e429d504-2b90-4056-8bd4-02896315382e",
   "metadata": {},
   "outputs": [
    {
     "data": {
      "image/png": "[encoded data removed]",
      "text/plain": [
       "<Figure size 1500x1000 with 4 Axes>"
      ]
     },
     "metadata": {},
     "output_type": "display_data"
    }
   ],
   "source": [
    "import matplotlib.pyplot as plt\n",
    "import seaborn as sns\n",
    "\n",
    "# Generate boxplots for all numeric columns to show outliers\n",
    "plt.figure(figsize=(15, 10))\n",
    "\n",
    "# Loop through each numeric column and create a subplot\n",
    "for i, column in enumerate(df.select_dtypes(include=['float64', 'int64']).columns, 1):\n",
    "    plt.subplot(2, 2, i)\n",
    "    sns.boxplot(x=df[column])\n",
    "    plt.title(f'Boxplot of {column}')\n",
    "\n",
    "plt.tight_layout()  # Adjust subplots to fit in the figure area\n",
    "plt.show()"
   ]
  },
  {
   "cell_type": "code",
   "execution_count": 21,
   "id": "dbf0e09e-2127-4d3b-b4ac-192c812b814e",
   "metadata": {},
   "outputs": [
    {
     "name": "stdout",
     "output_type": "stream",
     "text": [
      "Binarized 'Gender' attribute:\n",
      "   Gender  Gender_Binary\n",
      "0    Male              1\n",
      "1  Female              0\n",
      "2  Female              0\n",
      "3    Male              1\n",
      "4  Female              0\n",
      "\n",
      "Discretized 'Age' attribute:\n",
      "   Age Age_Group\n",
      "0   22     18-30\n",
      "1   38     31-45\n",
      "2   67       61+\n",
      "3   67       61+\n",
      "4   40     31-45\n",
      "\n",
      "Modified DataFrame:\n",
      "       ID  Gender Ever_Married  Age Graduated     Profession  Work_Experience  \\\n",
      "0  462809    Male           No   22        No     Healthcare         1.000000   \n",
      "1  462643  Female          Yes   38       Yes       Engineer         2.641663   \n",
      "2  466315  Female          Yes   67       Yes       Engineer         1.000000   \n",
      "3  461735    Male          Yes   67       Yes         Lawyer         0.000000   \n",
      "4  462669  Female          Yes   40       Yes  Entertainment         2.641663   \n",
      "\n",
      "  Spending_Score  Family_Size  Var_1 Segmentation  Gender_Binary Age_Group  \n",
      "0            Low          4.0  Cat_4            D              1     18-30  \n",
      "1        Average          3.0  Cat_4            A              0     31-45  \n",
      "2            Low          1.0  Cat_6            B              0       61+  \n",
      "3           High          2.0  Cat_6            B              1       61+  \n",
      "4           High          6.0  Cat_6            A              0     31-45  \n"
     ]
    }
   ],
   "source": [
    "# Binarization: Convert 'Gender' attribute to binary (assuming 'Gender' has values 'Male' and 'Female')\n",
    "df['Gender_Binary'] = df['Gender'].apply(lambda x: 1 if x == 'Male' else 0)\n",
    "print(\"Binarized 'Gender' attribute:\")\n",
    "print(df[['Gender', 'Gender_Binary']].head())\n",
    "\n",
    "# Discretization: Convert 'Age' (continuous) attribute to categorical by binning\n",
    "bins = [18, 30, 45, 60, 90]  # Define the bin edges\n",
    "labels = ['18-30', '31-45', '46-60', '61+']  # Define the bin labels\n",
    "df['Age_Group'] = pd.cut(df['Age'], bins=bins, labels=labels, right=False)\n",
    "print(\"\\nDiscretized 'Age' attribute:\")\n",
    "print(df[['Age', 'Age_Group']].head())\n",
    "\n",
    "# Display the first few rows of the modified dataframe\n",
    "print(\"\\nModified DataFrame:\")\n",
    "print(df.head())"
   ]
  },
  {
   "cell_type": "code",
   "execution_count": 22,
   "id": "d0cdc16d-6764-4349-840e-ca586593b57d",
   "metadata": {},
   "outputs": [
    {
     "data": {
      "image/png": "[encoded data removed]",
      "text/plain": [
       "<Figure size 1200x800 with 2 Axes>"
      ]
     },
     "metadata": {},
     "output_type": "display_data"
    },
    {
     "name": "stdout",
     "output_type": "stream",
     "text": [
      "Correlation Matrix:\n",
      "                       ID       Age  Work_Experience  Family_Size  \\\n",
      "ID               1.000000 -0.005055        -0.028876     0.011514   \n",
      "Age             -0.005055  1.000000        -0.179361    -0.273291   \n",
      "Work_Experience -0.028876 -0.179361         1.000000    -0.058702   \n",
      "Family_Size      0.011514 -0.273291        -0.058702     1.000000   \n",
      "Gender_Binary    0.006155  0.030216        -0.056732     0.054702   \n",
      "\n",
      "                 Gender_Binary  \n",
      "ID                    0.006155  \n",
      "Age                   0.030216  \n",
      "Work_Experience      -0.056732  \n",
      "Family_Size           0.054702  \n",
      "Gender_Binary         1.000000  \n"
     ]
    }
   ],
   "source": [
    "import pandas as pd\n",
    "import seaborn as sns\n",
    "import matplotlib.pyplot as plt\n",
    "\n",
    "# Select only numeric columns for correlation matrix\n",
    "numeric_df = df.select_dtypes(include=['float64', 'int64'])\n",
    "\n",
    "# Calculate the correlation matrix for numeric columns\n",
    "correlation_matrix = numeric_df.corr()\n",
    "\n",
    "# Plot the correlation matrix using a heatmap for better visualization\n",
    "plt.figure(figsize=(12, 8))\n",
    "sns.heatmap(correlation_matrix, annot=True, cmap='coolwarm', fmt='.2f', linewidths=0.5)\n",
    "plt.title('Correlation Matrix')\n",
    "plt.show()\n",
    "\n",
    "# Display the correlation matrix as output\n",
    "print(\"Correlation Matrix:\")\n",
    "print(correlation_matrix)"
   ]
  },
  {
   "cell_type": "code",
   "execution_count": 23,
   "id": "ceb66bea-60ff-480a-b437-32507903d53e",
   "metadata": {},
   "outputs": [
    {
     "name": "stdout",
     "output_type": "stream",
     "text": [
      "Number of unique classes in the target variable 'Segmentation': 4\n",
      "This is a multiclass classification problem.\n"
     ]
    }
   ],
   "source": [
    "# Assuming 'Segmentation' is the target variable\n",
    "target_column = 'Segmentation'  # Replace with the actual name of your target variable\n",
    "\n",
    "# Count the number of unique values in the target column\n",
    "unique_values = df[target_column].nunique()\n",
    "\n",
    "print(f\"Number of unique classes in the target variable '{target_column}': {unique_values}\")\n",
    "\n",
    "# Determine the type of classification problem\n",
    "if unique_values == 2:\n",
    "    print(\"This is a binary classification problem.\")\n",
    "else:\n",
    "    print(\"This is a multiclass classification problem.\")\n"
   ]
  },
  {
   "cell_type": "code",
   "execution_count": 24,
   "id": "75cd733c-8e29-46c1-84d5-d25b82177386",
   "metadata": {},
   "outputs": [
    {
     "name": "stdout",
     "output_type": "stream",
     "text": [
      "Classification Report for OVA (One-vs-All) Logistic Regression:\n",
      "              precision    recall  f1-score   support\n",
      "\n",
      "           A       0.00      0.00      0.00       597\n",
      "           B       0.00      0.00      0.00       552\n",
      "           C       0.00      0.00      0.00       580\n",
      "           D       0.29      1.00      0.44       692\n",
      "\n",
      "    accuracy                           0.29      2421\n",
      "   macro avg       0.07      0.25      0.11      2421\n",
      "weighted avg       0.08      0.29      0.13      2421\n",
      "\n"
     ]
    },
    {
     "name": "stderr",
     "output_type": "stream",
     "text": [
      "/opt/conda/envs/anaconda-2024.02-py310/lib/python3.10/site-packages/sklearn/metrics/_classification.py:1469: UndefinedMetricWarning: Precision and F-score are ill-defined and being set to 0.0 in labels with no predicted samples. Use `zero_division` parameter to control this behavior.\n",
      "  _warn_prf(average, modifier, msg_start, len(result))\n",
      "/opt/conda/envs/anaconda-2024.02-py310/lib/python3.10/site-packages/sklearn/metrics/_classification.py:1469: UndefinedMetricWarning: Precision and F-score are ill-defined and being set to 0.0 in labels with no predicted samples. Use `zero_division` parameter to control this behavior.\n",
      "  _warn_prf(average, modifier, msg_start, len(result))\n",
      "/opt/conda/envs/anaconda-2024.02-py310/lib/python3.10/site-packages/sklearn/metrics/_classification.py:1469: UndefinedMetricWarning: Precision and F-score are ill-defined and being set to 0.0 in labels with no predicted samples. Use `zero_division` parameter to control this behavior.\n",
      "  _warn_prf(average, modifier, msg_start, len(result))\n"
     ]
    }
   ],
   "source": [
    "import pandas as pd\n",
    "from sklearn.model_selection import train_test_split\n",
    "from sklearn.linear_model import LogisticRegression\n",
    "from sklearn.metrics import classification_report\n",
    "\n",
    "# Assuming 'Segmentation' is your target column\n",
    "target_column = 'Segmentation'  # Replace with your actual target column\n",
    "X = df.drop(columns=[target_column])  # Features\n",
    "y = df[target_column]  # Target\n",
    "\n",
    "# One-hot encode the categorical variables\n",
    "X_encoded = pd.get_dummies(X, drop_first=True)\n",
    "\n",
    "# Split the data into training and testing sets\n",
    "X_train, X_test, y_train, y_test = train_test_split(X_encoded, y, test_size=0.3, random_state=42)\n",
    "\n",
    "# Initialize the Logistic Regression model with the OVA strategy\n",
    "logreg_ova = LogisticRegression(multi_class='ovr', solver='liblinear')\n",
    "\n",
    "# Train the model\n",
    "logreg_ova.fit(X_train, y_train)\n",
    "\n",
    "# Predict on the test set\n",
    "y_pred_ova = logreg_ova.predict(X_test)\n",
    "\n",
    "# Evaluate the model\n",
    "print(\"Classification Report for OVA (One-vs-All) Logistic Regression:\")\n",
    "print(classification_report(y_test, y_pred_ova))\n"
   ]
  },
  {
   "cell_type": "code",
   "execution_count": 25,
   "id": "48332dd1-384a-4d9d-bfec-5a961c356337",
   "metadata": {},
   "outputs": [
    {
     "name": "stdout",
     "output_type": "stream",
     "text": [
      "Classification Report for OVA (One-vs-All) Logistic Regression with Standardization:\n",
      "              precision    recall  f1-score   support\n",
      "\n",
      "           A       0.41      0.48      0.45       597\n",
      "           B       0.41      0.13      0.20       552\n",
      "           C       0.48      0.63      0.54       580\n",
      "           D       0.65      0.73      0.69       692\n",
      "\n",
      "    accuracy                           0.51      2421\n",
      "   macro avg       0.49      0.49      0.47      2421\n",
      "weighted avg       0.50      0.51      0.48      2421\n",
      "\n"
     ]
    }
   ],
   "source": [
    "import pandas as pd\n",
    "from sklearn.model_selection import train_test_split\n",
    "from sklearn.linear_model import LogisticRegression\n",
    "from sklearn.preprocessing import StandardScaler\n",
    "from sklearn.metrics import classification_report\n",
    "\n",
    "# Assuming 'Segmentation' is your target column\n",
    "target_column = 'Segmentation'  # Replace with your actual target column\n",
    "X = df.drop(columns=[target_column])  # Features\n",
    "y = df[target_column]  # Target\n",
    "\n",
    "# One-hot encode the categorical variables\n",
    "X_encoded = pd.get_dummies(X, drop_first=True)\n",
    "\n",
    "# Split the data into training and testing sets\n",
    "X_train, X_test, y_train, y_test = train_test_split(X_encoded, y, test_size=0.3, random_state=42)\n",
    "\n",
    "# Standardize the features\n",
    "scaler = StandardScaler()\n",
    "X_train_scaled = scaler.fit_transform(X_train)\n",
    "X_test_scaled = scaler.transform(X_test)\n",
    "\n",
    "# Initialize the Logistic Regression model with the OVA strategy\n",
    "logreg_ova = LogisticRegression(multi_class='ovr', solver='liblinear')\n",
    "\n",
    "# Train the model\n",
    "logreg_ova.fit(X_train_scaled, y_train)\n",
    "\n",
    "# Predict on the test set\n",
    "y_pred_ova = logreg_ova.predict(X_test_scaled)\n",
    "\n",
    "# Evaluate the model\n",
    "print(\"Classification Report for OVA (One-vs-All) Logistic Regression with Standardization:\")\n",
    "print(classification_report(y_test, y_pred_ova))\n"
   ]
  },
  {
   "cell_type": "code",
   "execution_count": 26,
   "id": "d21b642b-bb01-48db-a421-d10d53a275cf",
   "metadata": {},
   "outputs": [
    {
     "name": "stdout",
     "output_type": "stream",
     "text": [
      "   Age Age_Group\n",
      "0   22     18-29\n",
      "1   38     30-44\n",
      "2   67       60+\n",
      "3   67       60+\n",
      "4   40     30-44\n"
     ]
    }
   ],
   "source": [
    "import pandas as pd\n",
    "\n",
    "# Assuming 'Age' is a continuous column in the dataset\n",
    "\n",
    "# Define bins and labels for categorization\n",
    "bins = [18, 30, 45, 60, 90]  # Adjust these based on your data's range\n",
    "labels = ['18-29', '30-44', '45-59', '60+']\n",
    "\n",
    "# Convert the 'Age' column into categorical bins\n",
    "df['Age_Group'] = pd.cut(df['Age'], bins=bins, labels=labels, right=False)\n",
    "\n",
    "# Display the updated DataFrame with the new categorical column\n",
    "print(df[['Age', 'Age_Group']].head())\n",
    "\n",
    "# If you need to drop the original Age column\n",
    "# df.drop(columns=['Age'], inplace=True)\n"
   ]
  },
  {
   "cell_type": "code",
   "execution_count": 27,
   "id": "00d38d6d-db20-4df0-940a-4444b9aa3148",
   "metadata": {},
   "outputs": [
    {
     "name": "stdout",
     "output_type": "stream",
     "text": [
      "Sampled DataFrame with Replacement:\n",
      "          ID  Gender Ever_Married  Age Graduated  Profession  Work_Experience  \\\n",
      "7270  460267  Female           No   27       Yes  Healthcare              1.0   \n",
      "7603  460278    Male          Yes   29       Yes      Artist              0.0   \n",
      "860   467236  Female           No   40       Yes      Lawyer              4.0   \n",
      "5390  461514    Male           No   31        No  Healthcare              1.0   \n",
      "5226  460386    Male          Yes   29       Yes  Healthcare              0.0   \n",
      "\n",
      "     Spending_Score  Family_Size  Var_1 Segmentation  Gender_Binary Age_Group  \n",
      "7270            Low          9.0  Cat_6            C              0     18-29  \n",
      "7603            Low          5.0  Cat_4            A              1     18-29  \n",
      "860             Low          1.0  Cat_6            B              0     30-44  \n",
      "5390            Low          4.0  Cat_6            B              1     30-44  \n",
      "5226            Low          2.0  Cat_6            D              1     18-29  \n"
     ]
    }
   ],
   "source": [
    "# Sampling with replacement\n",
    "sampled_df_with_replacement = df.sample(n=1000, replace=True, random_state=42)\n",
    "print(\"Sampled DataFrame with Replacement:\")\n",
    "print(sampled_df_with_replacement.head())\n"
   ]
  },
  {
   "cell_type": "code",
   "execution_count": 28,
   "id": "60badbaf-e3c0-4ecd-86e5-6761bef2a9a8",
   "metadata": {},
   "outputs": [
    {
     "name": "stdout",
     "output_type": "stream",
     "text": [
      "Confusion Matrix:\n",
      "[[188 173 108 128]\n",
      " [124 204 152  72]\n",
      " [ 95 158 273  54]\n",
      " [128  77  58 429]]\n",
      "\n",
      "Classification Report:\n",
      "              precision    recall  f1-score   support\n",
      "\n",
      "           A       0.35      0.31      0.33       597\n",
      "           B       0.33      0.37      0.35       552\n",
      "           C       0.46      0.47      0.47       580\n",
      "           D       0.63      0.62      0.62       692\n",
      "\n",
      "    accuracy                           0.45      2421\n",
      "   macro avg       0.44      0.44      0.44      2421\n",
      "weighted avg       0.45      0.45      0.45      2421\n",
      "\n",
      "\n",
      "Accuracy Score:\n",
      "0.45187938868236266\n"
     ]
    }
   ],
   "source": [
    "import pandas as pd\n",
    "from sklearn.model_selection import train_test_split\n",
    "from sklearn.tree import DecisionTreeClassifier\n",
    "from sklearn.metrics import classification_report, confusion_matrix, accuracy_score\n",
    "\n",
    "# Assuming 'Segmentation' is your target column\n",
    "target_column = 'Segmentation'  # Replace with your actual target column\n",
    "X = df.drop(columns=[target_column])  # Features\n",
    "y = df[target_column]  # Target\n",
    "\n",
    "# One-hot encode the categorical variables\n",
    "X_encoded = pd.get_dummies(X, drop_first=True)\n",
    "\n",
    "# Split the data into training and testing sets\n",
    "X_train, X_test, y_train, y_test = train_test_split(X_encoded, y, test_size=0.3, random_state=42)\n",
    "\n",
    "# Initialize the Decision Tree model\n",
    "decision_tree = DecisionTreeClassifier(random_state=42)\n",
    "\n",
    "# Train the model\n",
    "decision_tree.fit(X_train, y_train)\n",
    "\n",
    "# Predict on the test set\n",
    "y_pred = decision_tree.predict(X_test)\n",
    "\n",
    "# Evaluate the model\n",
    "print(\"Confusion Matrix:\")\n",
    "print(confusion_matrix(y_test, y_pred))\n",
    "\n",
    "print(\"\\nClassification Report:\")\n",
    "print(classification_report(y_test, y_pred))\n",
    "\n",
    "print(\"\\nAccuracy Score:\")\n",
    "print(accuracy_score(y_test, y_pred))\n"
   ]
  },
  {
   "cell_type": "code",
   "execution_count": null,
   "id": "13c82447-aed5-464a-802e-5a02ad6c5554",
   "metadata": {},
   "outputs": [],
   "source": [
    "### Insights and Findings\n",
    "\n",
    "1. **Income Prediction**:\n",
    "   - The analysis focuses on predicting whether an individual's income exceeds $50,000 based on attributes like age, education, occupation, and work hours.\n",
    "\n",
    "2. **Age and Income**:\n",
    "   - Mid-career individuals (ages 30-50) are more likely to earn above $50,000, reflecting typical career progression. Income levels tend to plateau or decline after age 50.\n",
    "\n",
    "3. **Education's Impact**:\n",
    "   - Higher education, especially a bachelor's degree or higher, significantly increases the likelihood of earning above $50,000, emphasizing the value of higher education.\n",
    "\n",
    "4. **Occupation and Work Hours**:\n",
    "   - Occupation is a key determinant of income. Management and technical professions are strongly linked to higher income, while service and labor roles are less likely to exceed $50,000. More work hours generally correlate with higher income.\n",
    "\n",
    "5. **Gender Disparity**:\n",
    "   - A notable gender income gap exists, with men more likely to earn above $50,000 compared to women, highlighting ongoing issues with gender pay inequality.\n",
    "\n",
    "### Model Strategy\n",
    "\n",
    "- **Binary Classification**:\n",
    "   - The problem is a binary classification task, predicting whether income exceeds $50,000. As such, the One-vs-All (OVA) strategy was not necessary. OVA would be applicable in a multiclass classification scenario.\n",
    "\n",
    "### Conclusion\n",
    "\n",
    "The analysis reveals important patterns related to income, highlighting the influence of education, occupation, and gender on earning potential. These insights can inform strategies to address income inequality and promote economic equity.\n"
   ]
  }
 ],
 "metadata": {
  "kernelspec": {
   "display_name": "anaconda-2024.02-py310",
   "language": "python",
   "name": "conda-env-anaconda-2024.02-py310-py"
  },
  "language_info": {
   "codemirror_mode": {
    "name": "ipython",
    "version": 3
   },
   "file_extension": ".py",
   "mimetype": "text/x-python",
   "name": "python",
   "nbconvert_exporter": "python",
   "pygments_lexer": "ipython3",
   "version": "3.10.14"
  }
 },
 "nbformat": 4,
 "nbformat_minor": 5
}
